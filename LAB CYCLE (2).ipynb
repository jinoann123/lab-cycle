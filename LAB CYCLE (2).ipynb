{
 "cells": [
  {
   "cell_type": "markdown",
   "id": "7b8e7c7d",
   "metadata": {},
   "source": [
    "####  LAB CYCLE\n",
    "#### 1)CALCULATOR"
   ]
  },
  {
   "cell_type": "code",
   "execution_count": 1,
   "id": "39dec356",
   "metadata": {},
   "outputs": [
    {
     "name": "stdout",
     "output_type": "stream",
     "text": [
      "Enter a number1\n",
      "Enter a number3\n",
      "Enter your choice: 4\n",
      "1:ADDITION\n",
      "2:SUBTRACTION\n",
      "3:MULTIPLICATION\n",
      "4:DIVISION\n",
      "Quotient 0.3333333333333333\n"
     ]
    }
   ],
   "source": [
    "a=int(input(\"Enter a number\"))\n",
    "b=int(input(\"Enter a number\"))\n",
    "ch=int(input(\"Enter your choice: \"))\n",
    "print(\"1:ADDITION\")\n",
    "print(\"2:SUBTRACTION\")\n",
    "print(\"3:MULTIPLICATION\")\n",
    "print(\"4:DIVISION\")\n",
    "if(ch==1):\n",
    "    print(\"Sum of two numbers\",a+b)\n",
    "elif(ch==2):\n",
    "    print(\"Diffrence of two numbers\",a-b)\n",
    "elif(ch==3):\n",
    "    print(\"Product of two numbers\",a*b)\n",
    "elif(ch==4):\n",
    "    print(\"Quotient\",a/b)\n",
    "else:\n",
    "    print(\"WRONG CHOICE\")\n"
   ]
  },
  {
   "cell_type": "markdown",
   "id": "a60203b7",
   "metadata": {},
   "source": [
    "##### 2)CREATE,RANGE,SLICE,MEMBERSHIP,SUBSTRING"
   ]
  },
  {
   "cell_type": "code",
   "execution_count": 3,
   "id": "79b2cd4a",
   "metadata": {},
   "outputs": [
    {
     "name": "stdout",
     "output_type": "stream",
     "text": [
      "CONCATENATE- RAJAGIRICOLLEGE\n",
      "LENGTH OF FIRST STRING: 8\n",
      "LENGTH OF SECOND STRING: 7\n",
      "SLICE FROM POSTION 0-4 OF FIRST STRING: RAJAG\n",
      "SLICE FROM POSTION 1-4 OF SECOND STRING: OLLE\n",
      "True\n",
      "False\n",
      "SUBSTRING FROM POSITION 0-4 OF FIRST STRING: RAJAG\n",
      "SUBSTRING FROM POSITION 1-4 OF FIRST STRING: OLLEGE\n"
     ]
    }
   ],
   "source": [
    "a=\"RAJAGIRI\"\n",
    "b=\"COLLEGE\"\n",
    "print(\"CONCATENATE-\",a+b)\n",
    "print(\"LENGTH OF FIRST STRING:\",len(a))\n",
    "print(\"LENGTH OF SECOND STRING:\",len(b))\n",
    "print(\"SLICE FROM POSTION 0-4 OF FIRST STRING:\",a[0:5])\n",
    "print(\"SLICE FROM POSTION 1-4 OF SECOND STRING:\",b[1:5])\n",
    "print(\"A\" in a)\n",
    "print(\"R\" in b)\n",
    "print(\"SUBSTRING FROM POSITION 0-4 OF FIRST STRING:\",a[:5])\n",
    "print(\"SUBSTRING FROM POSITION 1-4 OF FIRST STRING:\",b[1:])\n"
   ]
  },
  {
   "cell_type": "markdown",
   "id": "a8c6b6a3",
   "metadata": {},
   "source": [
    "####  3)LIST"
   ]
  },
  {
   "cell_type": "code",
   "execution_count": 6,
   "id": "98f26cfd",
   "metadata": {},
   "outputs": [
    {
     "name": "stdout",
     "output_type": "stream",
     "text": [
      "ORIGINAL LIST: ['Rajagiri', 'S.H', 'RBS']\n",
      "APPENDED LIST: ['Rajagiri', 'S.H', 'RBS', 'Mar Ivanios']\n",
      "INSERTED: ['Fathima Matha', 'Rajagiri', 'S.H', 'RBS', 'Mar Ivanios']\n",
      "DELETED: ['Fathima Matha', 'S.H', 'RBS', 'Mar Ivanios']\n"
     ]
    }
   ],
   "source": [
    "list=[\"Rajagiri\",\"S.H\",\"RBS\"]\n",
    "print(\"ORIGINAL LIST:\",list)\n",
    "list.append(\"Mar Ivanios\")\n",
    "print(\"APPENDED LIST:\",list)\n",
    "list.insert(0,\"Fathima Matha\")\n",
    "print(\"INSERTED:\",list)\n",
    "del(list[1])\n",
    "print(\"DELETED:\",list)\n"
   ]
  },
  {
   "cell_type": "markdown",
   "id": "bd39dda6",
   "metadata": {},
   "source": [
    "###### 4)TUPLES"
   ]
  },
  {
   "cell_type": "code",
   "execution_count": 7,
   "id": "3284703c",
   "metadata": {},
   "outputs": [
    {
     "name": "stdout",
     "output_type": "stream",
     "text": [
      "['Monitor', 'RAM', 'Expansion cards', 'HDD']\n",
      "True\n"
     ]
    }
   ],
   "source": [
    "Hardware=[\"Monitor\",\"RAM\",\"Expansion cards\",\"HDD\"]\n",
    "print(Hardware)\n",
    "print(\"HDD\" in Hardware)"
   ]
  },
  {
   "cell_type": "markdown",
   "id": "2986cd58",
   "metadata": {},
   "source": [
    "##### 5)DICTIONARY"
   ]
  },
  {
   "cell_type": "code",
   "execution_count": 9,
   "id": "8a34e66f",
   "metadata": {},
   "outputs": [
    {
     "name": "stdout",
     "output_type": "stream",
     "text": [
      "{'The Christmas Pig': 'JK Rowling', 'Wings of Fire': 'Dr A.P.J Abdul Kalam', 'Gitanjali': 'Rabindranath Tagore', 'Origin of Species': 'Charles Darwin'}\n",
      "ADDING BOOKS: {'The Christmas Pig': 'JK Rowling', 'Wings of Fire': 'Dr A.P.J Abdul Kalam', 'Gitanjali': 'Rabindranath Tagore', 'Origin of Species': 'Charles Darwin', 'Gullivers Travel': 'Jonathan Swift'}\n",
      "LENGTH OF THE DICTIONARY: 5\n"
     ]
    }
   ],
   "source": [
    "thisdict={\"The Christmas Pig\":\"JK Rowling\",\n",
    "         \"Wings of Fire\":\"Dr A.P.J Abdul Kalam\",\n",
    "         \"Gitanjali\":\"Rabindranath Tagore\",\n",
    "         \"Origin of Species\":\"Charles Darwin\"}\n",
    "print(thisdict)\n",
    "thisdict[\"Gullivers Travel\"]=\"Jonathan Swift\"\n",
    "print(\"ADDING BOOKS:\",thisdict)\n",
    "print(\"LENGTH OF THE DICTIONARY:\",len(thisdict))"
   ]
  },
  {
   "cell_type": "markdown",
   "id": "ea43d850",
   "metadata": {},
   "source": [
    "#####  6)PATTERN"
   ]
  },
  {
   "cell_type": "code",
   "execution_count": null,
   "id": "f557d08f",
   "metadata": {},
   "outputs": [],
   "source": [
    "n=int(input(\"Enter number of rows\"))\n",
    "for i in range(0,n):\n",
    "    for j in range(0,i+1):\n",
    "        print(\"*\",end=\"\")\n",
    "    print()"
   ]
  },
  {
   "cell_type": "markdown",
   "id": "2273327f",
   "metadata": {},
   "source": [
    "#### 7)Celsius to Farenheit"
   ]
  },
  {
   "cell_type": "code",
   "execution_count": 10,
   "id": "f56bca52",
   "metadata": {},
   "outputs": [
    {
     "name": "stdout",
     "output_type": "stream",
     "text": [
      "Enter the temperature in celsius: 100\n",
      "Celsius to Farenheit:  212.0\n",
      "Enter the temperature in farenheit:28\n",
      "Farenheit to Celsius:  10.222222222222221\n"
     ]
    }
   ],
   "source": [
    "celsius=int(input(\"Enter the temperature in celsius: \"))\n",
    "far=celsius*(9/5)+32\n",
    "print(\"Celsius to Farenheit: \",far)\n",
    "farenheit=int(input(\"Enter the temperature in farenheit:\"))\n",
    "cel=farenheit-32*(5/9)\n",
    "print(\"Farenheit to Celsius: \",cel)"
   ]
  },
  {
   "cell_type": "markdown",
   "id": "dc3c8873",
   "metadata": {},
   "source": [
    "#### 8)Nested for loop"
   ]
  },
  {
   "cell_type": "code",
   "execution_count": 11,
   "id": "4efb3d7a",
   "metadata": {},
   "outputs": [
    {
     "name": "stdout",
     "output_type": "stream",
     "text": [
      "*  \n",
      "* *  \n",
      "* * *  \n",
      "* * * *  \n",
      "* * * * *  \n",
      "* * * * *  \n",
      "* * * *  \n",
      "* * *  \n",
      "* *  \n",
      "*  \n",
      " \n"
     ]
    }
   ],
   "source": [
    "rows = 5\n",
    "for i in range(0, rows):\n",
    "    for j in range(0, i + 1):\n",
    "        print(\"*\", end=' ')\n",
    "    print(\" \")\n",
    "\n",
    "for i in range(rows + 1, 0, -1):\n",
    "    for j in range(0, i - 1):\n",
    "        print(\"*\", end=' ')\n",
    "    print(\" \")"
   ]
  },
  {
   "cell_type": "markdown",
   "id": "cafe7966",
   "metadata": {},
   "source": [
    "### 9)\n"
   ]
  },
  {
   "cell_type": "code",
   "execution_count": 13,
   "id": "67c132aa",
   "metadata": {},
   "outputs": [
    {
     "name": "stdout",
     "output_type": "stream",
     "text": [
      "Enter the base: 2\n",
      "Enter the hypotenuse: 6\n",
      "Enter the altitude9\n",
      "Not a right angle\n"
     ]
    }
   ],
   "source": [
    "b=int(input(\"Enter the base: \"))\n",
    "h=int(input(\"Enter the hypotenuse: \"))\n",
    "a=int(input(\"Enter the altitude\"))\n",
    "if h**2==((b**2)+(a**2)):\n",
    "    print(\"The triangle is right angled\")\n",
    "else:\n",
    "        print(\"Not a right angle\")\n",
    "        "
   ]
  },
  {
   "cell_type": "markdown",
   "id": "2bd413e1",
   "metadata": {},
   "source": [
    "### 10)"
   ]
  },
  {
   "cell_type": "code",
   "execution_count": 15,
   "id": "9b0da510",
   "metadata": {},
   "outputs": [
    {
     "name": "stdout",
     "output_type": "stream",
     "text": [
      "Enter the number24\n",
      "Not divisible\n"
     ]
    }
   ],
   "source": [
    "a=int(input(\"Enter the number\"))\n",
    "if a%5==0 and a%7==0:\n",
    "    print(\"The number is divisible\")\n",
    "else:\n",
    "    print(\"Not divisible\")\n",
    " "
   ]
  },
  {
   "cell_type": "markdown",
   "id": "ad9b5f6e",
   "metadata": {},
   "source": [
    "### 11) "
   ]
  },
  {
   "cell_type": "code",
   "execution_count": 16,
   "id": "beeebfdf",
   "metadata": {},
   "outputs": [
    {
     "name": "stdout",
     "output_type": "stream",
     "text": [
      "101\n",
      "103\n",
      "105\n",
      "107\n",
      "109\n",
      "110\n",
      "112\n",
      "114\n",
      "116\n",
      "118\n",
      "121\n",
      "123\n",
      "125\n",
      "127\n",
      "129\n",
      "130\n",
      "132\n",
      "134\n",
      "136\n",
      "138\n",
      "141\n",
      "143\n",
      "145\n",
      "147\n",
      "149\n",
      "150\n",
      "152\n",
      "154\n",
      "156\n",
      "158\n",
      "161\n",
      "163\n",
      "165\n",
      "167\n",
      "169\n",
      "170\n",
      "172\n",
      "174\n",
      "176\n",
      "178\n",
      "181\n",
      "183\n",
      "185\n",
      "187\n",
      "189\n",
      "190\n",
      "192\n",
      "194\n",
      "196\n",
      "198\n"
     ]
    }
   ],
   "source": [
    "for i in range(100,200):\n",
    "    sum=0\n",
    "    num=i\n",
    "    while(num!=0):\n",
    "        digit=num%10\n",
    "        sum=sum+digit\n",
    "        num=num//10\n",
    "    if(sum%2==0):\n",
    "        print(i)\n",
    "        "
   ]
  },
  {
   "cell_type": "code",
   "execution_count": null,
   "id": "7937ce56",
   "metadata": {},
   "outputs": [],
   "source": [
    "\n",
    "for i in range(1, 6):\n",
    "    for j in range(1,6):\n",
    "        print(\"*\", end=' ')\n",
    "    print(\" \")\n"
   ]
  },
  {
   "cell_type": "markdown",
   "id": "80dfa80a",
   "metadata": {},
   "source": [
    "### 12)"
   ]
  },
  {
   "cell_type": "code",
   "execution_count": null,
   "id": "7bd1c938",
   "metadata": {},
   "outputs": [],
   "source": [
    "a=int(input(\"Enter a 1st number\"))\n",
    "b=int(input(\"Enter a 2nd number\"))\n",
    "ch=int(input(\"Enter your choice: \"))\n",
    "print(\"1:ADDITION\")\n",
    "print(\"2:SUBTRACTION\")\n",
    "print(\"3:MULTIPLICATION\")\n",
    "print(\"4:DIVISION\")\n",
    "if(ch==1):\n",
    "    print(\"Sum of two numbers\",a+b)\n",
    "elif(ch==2):\n",
    "    print(\"Diffrence of two numbers\",a-b)\n",
    "elif(ch==3):\n",
    "    print(\"Product of two numbers\",a*b)\n",
    "elif(ch==4):\n",
    "    print(\"Quotient\",a/b)\n",
    "else:\n",
    "    print(\"WRONG CHOICE\")"
   ]
  },
  {
   "cell_type": "code",
   "execution_count": 9,
   "id": "cb8b4c15",
   "metadata": {},
   "outputs": [
    {
     "name": "stdout",
     "output_type": "stream",
     "text": [
      "0\n",
      "1\n",
      "1\n",
      "2\n",
      "3\n",
      "5\n",
      "8\n",
      "13\n",
      "21\n",
      "34\n"
     ]
    }
   ],
   "source": [
    "def fibonacci(n):\n",
    "  if n == 0:\n",
    "    return 0\n",
    "  elif n == 1:\n",
    "    return 1\n",
    "  else:\n",
    "    return fibonacci(n-1) + fibonacci(n-2)\n",
    "for i in range(10):\n",
    "  print(fibonacci(i))"
   ]
  },
  {
   "cell_type": "code",
   "execution_count": null,
   "id": "37b9e538",
   "metadata": {},
   "outputs": [],
   "source": [
    "import numpy as np\n",
    "a=[[12,2,3],[1,2,3],[2,2,5]]\n",
    "b=[[5,8,2,1],[6,1,3,2],[1,2,3,4]]\n",
    "result=[[0,0,0,0],[0,0,0,0],[0,0,0,0]]\n",
    "result=np.dot(a,b)\n",
    "for r in result:\n",
    "    print(r)"
   ]
  },
  {
   "cell_type": "code",
   "execution_count": 12,
   "id": "f235cc30",
   "metadata": {},
   "outputs": [
    {
     "name": "stdout",
     "output_type": "stream",
     "text": [
      "ENTER A NUMBER:3\n",
      "ENTER A NUMBER:4\n",
      "SUM = 49\n"
     ]
    }
   ],
   "source": [
    "x=int(input(\"ENTER A NUMBER:\"))\n",
    "y=int(input(\"ENTER A NUMBER:\"))\n",
    "s= (x + y) * (x + y)\n",
    "print(\"SUM =\",s)"
   ]
  },
  {
   "cell_type": "code",
   "execution_count": null,
   "id": "a8e4367a",
   "metadata": {},
   "outputs": [],
   "source": [
    "#FIBONACCI SERIES\n",
    "n=int(input(\"Enter the limit: \"))\n",
    "a=0\n",
    "b=1\n",
    "print(a)\n",
    "print(b)\n",
    "for  i in range(2,n):\n",
    "    c=a+b\n",
    "    a=b\n",
    "    b=c\n",
    "    print(c)\n"
   ]
  },
  {
   "cell_type": "code",
   "execution_count": null,
   "id": "3a2c3d1e",
   "metadata": {},
   "outputs": [],
   "source": [
    "#MATRIX MULTIPLICATION\n",
    "X=[[1,2,3],[4,4,5],[2,1,2]]\n",
    "Y=[[6,5,6],[6,4,4],[3,2,9]]\n",
    "result=[[0,0,0],[0,0,0],[0,0,0]]\n",
    "for i in range(len(X)):\n",
    "    for j in range(len(Y[0])):\n",
    "        for k in range(len(Y)):\n",
    "            result[i][j]+=X[i][k]*Y[k][j]\n",
    "for r in result:\n",
    "    print(r)\n",
    "        \n",
    "        \n",
    "        \n",
    "        "
   ]
  },
  {
   "cell_type": "markdown",
   "id": "c0f1808c",
   "metadata": {},
   "source": [
    "### FILE"
   ]
  },
  {
   "cell_type": "code",
   "execution_count": null,
   "id": "90767edb",
   "metadata": {},
   "outputs": [],
   "source": [
    "#OPENING A FILE\n",
    "file1=open(\"sample.txt\")\n",
    "file1"
   ]
  },
  {
   "cell_type": "code",
   "execution_count": null,
   "id": "790841b7",
   "metadata": {},
   "outputs": [],
   "source": [
    "#READ A FILE\n",
    "file1=open(\"sample.txt\",\"r\")\n",
    "read_content=file1.read()\n",
    "read_content"
   ]
  },
  {
   "cell_type": "code",
   "execution_count": null,
   "id": "b89cf68e",
   "metadata": {},
   "outputs": [],
   "source": [
    "#WRITE ON A FILE\n",
    "file1=open(\"sample.txt\",\"w\")\n",
    "file1.write(\"HELLO WORLD\")\n",
    "file1.close()\n",
    "\n",
    "file1=open(\"sample.txt\",\"r\")\n",
    "read_content=file1.read()\n",
    "read_content"
   ]
  },
  {
   "cell_type": "code",
   "execution_count": null,
   "id": "dcfaa4ea",
   "metadata": {},
   "outputs": [],
   "source": [
    "#Read the file of 3 position\n",
    "file1=open(\"sample.txt\")\n",
    "a=file1.read(3)\n",
    "print(a)\n"
   ]
  },
  {
   "cell_type": "code",
   "execution_count": null,
   "id": "2af9fafa",
   "metadata": {},
   "outputs": [],
   "source": [
    "#Check current position\n",
    "p=file1.tell()\n",
    "print(p)"
   ]
  },
  {
   "cell_type": "code",
   "execution_count": null,
   "id": "fbaa0427",
   "metadata": {},
   "outputs": [],
   "source": [
    "#Reposition pointer at the begining again\n",
    "s=file1.seek(0,0)\n",
    "a=file1.read(5)\n",
    "print(a)"
   ]
  },
  {
   "cell_type": "code",
   "execution_count": null,
   "id": "5dde497d",
   "metadata": {
    "scrolled": true
   },
   "outputs": [],
   "source": [
    "import sys\n",
    "x1=int(sys.argv[1])\n",
    "y1=int(sys.argv[2])\n",
    "x2=int(sys.argv[3])\n",
    "y2=int(sys.argv[4])\n",
    "distance=((x2-x1)**2+(y2-y1)**2)**0.5\n",
    "print(\"DISTANCE BETWEEN POINTS=\",distance)"
   ]
  },
  {
   "cell_type": "code",
   "execution_count": null,
   "id": "0d906658",
   "metadata": {},
   "outputs": [],
   "source": [
    "import os\n",
    "print(os.popen(\"python add.py 10 4 6 3\").read())"
   ]
  },
  {
   "cell_type": "markdown",
   "id": "63158639",
   "metadata": {},
   "source": [
    "#### BUBBLE SORT"
   ]
  },
  {
   "cell_type": "code",
   "execution_count": null,
   "id": "cfe28ce2",
   "metadata": {},
   "outputs": [],
   "source": [
    "num = int(input(\"Enter the number of values: \"))\n",
    "a_list=[]\n",
    "print(\"Enter the values:\")\n",
    "for k in range(num):\n",
    "    value = input()\n",
    "    a_list.extend(list(map(int, value.split())))\n",
    "def bubble_sort(a_list):\n",
    "    for i in range(0,len(a_list)-1): \n",
    "        for j in range(len(a_list)-1): \n",
    "            if(a_list[j]>a_list[j+1]): \n",
    "                temp = a_list[j]\n",
    "                a_list[j] = a_list[j+1] \n",
    "                a_list[j+1] = temp \n",
    "        return a_list \n",
    "print(\"original list: \", a_list) \n",
    "print(\"list after sorting: \", bubble_sort(a_list)) \n"
   ]
  },
  {
   "cell_type": "markdown",
   "id": "19d36176",
   "metadata": {},
   "source": [
    "### RECURSION"
   ]
  },
  {
   "cell_type": "code",
   "execution_count": null,
   "id": "950211e2",
   "metadata": {},
   "outputs": [],
   "source": [
    "def recur_sum(n):\n",
    "   if n <= 1:\n",
    "       return n\n",
    "   else:\n",
    "       return n + recur_sum(n-1)\n",
    "num=int(input(\"Enter a number:\"))\n",
    "if num < 0:\n",
    "   print(\"The number is less than 0\")\n",
    "else:\n",
    "   print(\"The sum is\",recur_sum(num))"
   ]
  },
  {
   "cell_type": "markdown",
   "id": "5e4d21f5",
   "metadata": {},
   "source": [
    "#### SET OPERATION"
   ]
  },
  {
   "cell_type": "code",
   "execution_count": null,
   "id": "a8712c58",
   "metadata": {},
   "outputs": [],
   "source": [
    "#UNION\n",
    "a={1,2,3,4,5,6}\n",
    "b={6.5,5,7,8,9}\n",
    "c=a.union(b)\n",
    "print(c)\n",
    "#INTERSECTION\n",
    "d=a.intersection(b)\n",
    "print(d)\n",
    "#DIFFRENCE\n",
    "p=a.difference(b)\n",
    "print(p)"
   ]
  },
  {
   "cell_type": "markdown",
   "id": "a3af3029",
   "metadata": {},
   "source": [
    "#### PALLINDROME"
   ]
  },
  {
   "cell_type": "code",
   "execution_count": 1,
   "id": "821589ec",
   "metadata": {},
   "outputs": [
    {
     "name": "stdout",
     "output_type": "stream",
     "text": [
      "Enter a number: 121\n",
      "SUM:  242\n"
     ]
    }
   ],
   "source": [
    "def rvr(num):\n",
    " rev = 0\n",
    " temp = num\n",
    " while(temp>0):\n",
    "    rev = rev*10 + temp%10\n",
    "    temp = int(temp/10)\n",
    " return rev\n",
    "def pal(n):\n",
    " if n == rvr(n):\n",
    "    return True\n",
    " else:\n",
    "        return False\n",
    " \n",
    "def main(n):\n",
    " s = n + rvr(n)\n",
    " if(pal(s)):\n",
    "        print(\"SUM: \", s)\n",
    " else:\n",
    "    main(n)\n",
    " \n",
    "n = int(input(\"Enter a number: \"))\n",
    "main(n)\n"
   ]
  },
  {
   "cell_type": "code",
   "execution_count": 4,
   "id": "209410ed",
   "metadata": {},
   "outputs": [
    {
     "name": "stdout",
     "output_type": "stream",
     "text": [
      "Enter the number of students: 2\n",
      "\n",
      "Enter the name of student 1: Arya\n",
      "Enter the Rollno of student 1: 24\n",
      "Enter the Total Mark of student 1: 50\n",
      "\n",
      "Enter the name of student 2: Sree\n",
      "Enter the Rollno of student 2: 30\n",
      "Enter the Total Mark of student 2: 50\n",
      "\n",
      "Student with maximum mark:  Arya\n"
     ]
    }
   ],
   "source": [
    "def student_details():\n",
    "  n = int(input(\"Enter the number of students: \"))\n",
    "  stud_data = []\n",
    "  for i in range(n):\n",
    "    model = {\n",
    "      'name' : None,\n",
    "      'roll_no' : None,\n",
    "      'total_mark' : None\n",
    "    }\n",
    "    stud_data.append(model)\n",
    "    stud_data[i]['name'] = input(\"\\nEnter the name of student {}: \".format((i+1)))\n",
    "    stud_data[i]['roll_no'] = int(input(\"Enter the Rollno of student {}: \".format((i+1))))\n",
    "    stud_data[i]['total_mark'] = int(input(\"Enter the Total Mark of student {}: \".format((i+1)) ))  \n",
    "  max, value = -1, -1\n",
    "  for i in range(n):\n",
    "    if stud_data[i]['total_mark'] > value:\n",
    "      max = i\n",
    "      value = stud_data[i]['total_mark']\n",
    "  print(\"\\nStudent with maximum mark: \", stud_data[max]['name'])\n",
    "student_details()\n"
   ]
  },
  {
   "cell_type": "markdown",
   "id": "3fe1f1b6",
   "metadata": {},
   "source": [
    "#### PHONE DIRECTORY"
   ]
  },
  {
   "cell_type": "code",
   "execution_count": 1,
   "id": "9bae2825",
   "metadata": {},
   "outputs": [
    {
     "name": "stdout",
     "output_type": "stream",
     "text": [
      "WELCOME TO THE PHONEBOOK DIRECTORY\n",
      "\n",
      "MAIN MENU\n",
      "\n",
      "1. Show all existing Contacts\n",
      "2. Add a new Contact\n",
      "3. Search the existing Contact\n",
      "4. Exit\n",
      "Enter your choice: 1\n",
      "MY PHONE BOOK\n",
      "[Aksa Thomas, 8976435328, abc2gmail.com]\n",
      "[Arya Jagish, 9087654321, xyz2gmail.com]\n",
      "[Jerusha Ann, 8945643532, jeru2gmail.com]\n",
      "Press Enter to continue ...3\n",
      "\n",
      "MAIN MENU\n",
      "\n",
      "1. Show all existing Contacts\n",
      "2. Add a new Contact\n",
      "3. Search the existing Contact\n",
      "4. Exit\n",
      "Enter your choice: 3\n",
      "Enter First name for searching contact record: Jerusha\n",
      "Your required contact record is: [Jerusha Ann, 8945643532, jeru2gmail.com]\n",
      "Press Enter to continue ...\n",
      "\n",
      "MAIN MENU\n",
      "\n",
      "1. Show all existing Contacts\n",
      "2. Add a new Contact\n",
      "3. Search the existing Contact\n",
      "4. Exit\n",
      "Enter your choice: 4\n",
      "Thank you for using Phonebook!\n"
     ]
    }
   ],
   "source": [
    "print(\"WELCOME TO THE PHONEBOOK DIRECTORY\")\n",
    "filename = \"phone_book.txt\"\n",
    "\n",
    "def main_menu():\n",
    "    print(\"\\nMAIN MENU\\n\")\n",
    "    print(\"1. Show all existing Contacts\")\n",
    "    print(\"2. Add a new Contact\")\n",
    "    print(\"3. Search the existing Contact\")\n",
    "    print(\"4. Exit\")\n",
    "    choice = input(\"Enter your choice: \")\n",
    "\n",
    "    if choice == \"1\":\n",
    "        show_all_contacts()\n",
    "    elif choice == \"2\":\n",
    "        add_new_contact()\n",
    "    elif choice == \"3\":\n",
    "        search_contact()\n",
    "    elif choice == \"4\":\n",
    "        print(\"EXIT\")\n",
    "        return\n",
    "    else:\n",
    "        print(\"Please provide a valid input!\\n\")\n",
    "\n",
    "    input(\"Press Enter to continue ...\")\n",
    "    main_menu()\n",
    "\n",
    "def show_all_contacts():\n",
    "    myfile = open(filename, \"r\")\n",
    "    filecontents = myfile.read()\n",
    "    if len(filecontents) == 0:\n",
    "        print(\"There are no contacts in the phonebook.\")\n",
    "    else:\n",
    "        print(filecontents)\n",
    "    myfile.close()\n",
    "\n",
    "def search_contact():\n",
    "    searchname = input(\"Enter First name for searching contact record: \")\n",
    "    remname = searchname[1:]\n",
    "    firstchar = searchname[0]\n",
    "    searchname = firstchar.upper() + remname\n",
    "\n",
    "    myfile = open(filename, \"r\")\n",
    "    filecontents = myfile.readlines()\n",
    "    found = False\n",
    "\n",
    "    for line in filecontents:\n",
    "        if searchname in line:\n",
    "            print(\"Your required contact record is:\", end=\" \")\n",
    "            print(line)\n",
    "            found = True\n",
    "            break\n",
    "\n",
    "    if not found:\n",
    "        print(\"The searched contact is not available in the Phone Book:\", searchname)\n",
    "\n",
    "    myfile.close()\n",
    "\n",
    "def add_new_contact():\n",
    "    firstname = input(\"Enter your First Name: \")\n",
    "    lastname = input(\"Enter your Last Name: \")\n",
    "    phoneNum = input(\"Enter your Phone number: \")\n",
    "    emailID = input(\"Enter your E-mail Address: \")\n",
    "    contactDetails = \"[\" + firstname + \" \" + lastname + \", \" + phoneNum + \", \" + emailID + \"]\\n\"\n",
    "\n",
    "    myfile = open(filename, \"a\")\n",
    "    myfile.write(contactDetails)\n",
    "    myfile.close()\n",
    "\n",
    "    print(\"The following Contact Details:\\n\" + contactDetails + \"have been stored successfully!\")\n",
    "\n",
    "main_menu()"
   ]
  },
  {
   "cell_type": "code",
   "execution_count": 2,
   "id": "e4f45d12",
   "metadata": {},
   "outputs": [],
   "source": [
    "a = ['Name:Jino Ann Thomas',\n",
    "     'Dept:MSCCS'\n",
    "      'College:RCSS'\n",
    "     ]\n",
    "fnew = open(\"file1\", 'w')\n",
    "for i in a:\n",
    "  fnew.write(i+\"\\n\")\n",
    "fnew.close()\n",
    "file1 = open(\"file1\", \"r\")\n",
    "file2 = open(\"file2\", \"w\")\n",
    "#copying contents of file1 to file2\n",
    "for x in file1:\n",
    "  file2.write(x)\n",
    "file1.close()\n",
    "file2.close()\n"
   ]
  },
  {
   "cell_type": "markdown",
   "id": "154bd808",
   "metadata": {},
   "source": [
    "#### BUBBLE SORT\n"
   ]
  },
  {
   "cell_type": "code",
   "execution_count": 3,
   "id": "789ec649",
   "metadata": {},
   "outputs": [
    {
     "name": "stdout",
     "output_type": "stream",
     "text": [
      "Enter a list of numbers separated by spaces: 2 1 6 3 4 5\n",
      "Before sorting: [2, 1, 6, 3, 4, 5]\n",
      "After sorting: [1, 2, 3, 4, 5, 6]\n"
     ]
    }
   ],
   "source": [
    "def bubble_sort(arr):\n",
    "    n = len(arr)\n",
    "    for i in range(n - 1):\n",
    "        for j in range(n - i - 1):\n",
    "            if arr[j] > arr[j + 1]:\n",
    "                arr[j], arr[j + 1] = arr[j + 1], arr[j]\n",
    "\n",
    "# User input\n",
    "numbers = input(\"Enter a list of numbers separated by spaces: \").split()\n",
    "numbers = [int(num) for num in numbers]\n",
    "\n",
    "print(\"Before sorting:\", numbers)\n",
    "bubble_sort(numbers)\n",
    "print(\"After sorting:\", numbers)"
   ]
  },
  {
   "cell_type": "markdown",
   "id": "4e6ac212",
   "metadata": {},
   "source": [
    "#### QUICK SORT"
   ]
  },
  {
   "cell_type": "code",
   "execution_count": 4,
   "id": "864bbae6",
   "metadata": {},
   "outputs": [
    {
     "name": "stdout",
     "output_type": "stream",
     "text": [
      "Enter a list of numbers separated by spaces: 2 1 3 5 4 7 6\n",
      "Before sorting: [2, 1, 3, 5, 4, 7, 6]\n",
      "After sorting: [1, 2, 3, 4, 5, 6, 7]\n"
     ]
    }
   ],
   "source": [
    "def quick_sort(arr):\n",
    "    if len(arr) <= 1:\n",
    "        return arr\n",
    "    pivot = arr[len(arr) // 2]\n",
    "    left = [x for x in arr if x < pivot]\n",
    "    middle = [x for x in arr if x == pivot]\n",
    "    right = [x for x in arr if x > pivot]\n",
    "    return quick_sort(left) + middle + quick_sort(right)\n",
    "\n",
    "# User input\n",
    "numbers = input(\"Enter a list of numbers separated by spaces: \").split()\n",
    "numbers = [int(num) for num in numbers]\n",
    "\n",
    "print(\"Before sorting:\", numbers)\n",
    "numbers = quick_sort(numbers)\n",
    "print(\"After sorting:\", numbers)"
   ]
  },
  {
   "cell_type": "markdown",
   "id": "41288d6f",
   "metadata": {},
   "source": [
    "### LINEAR SEARCH"
   ]
  },
  {
   "cell_type": "code",
   "execution_count": 7,
   "id": "49635ab1",
   "metadata": {},
   "outputs": [
    {
     "name": "stdout",
     "output_type": "stream",
     "text": [
      "Enter a list of numbers: 1 2 3 4 5\n",
      "Enter the number to find out: 4\n",
      "Number 4 is found at index 3\n"
     ]
    }
   ],
   "source": [
    "def linear_search(arr, element):\n",
    "    for i in range(len(arr)):\n",
    "        if arr[i] == element:\n",
    "            return i\n",
    "    return -1\n",
    "numbers = input(\"Enter a list of numbers: \").split()\n",
    "numbers = [int(num) for num in numbers]\n",
    "element= int(input(\"Enter the number to find out: \"))\n",
    "index = linear_search(numbers, element)\n",
    "if index != -1:\n",
    "    print(\"Number\", element, \"is found at index\", index)\n",
    "else:\n",
    "    print(\"Number is not found\", element, \"in the list.\")"
   ]
  },
  {
   "cell_type": "markdown",
   "id": "a8d9253a",
   "metadata": {},
   "source": [
    "### BINARY SERACH"
   ]
  },
  {
   "cell_type": "code",
   "execution_count": 8,
   "id": "a48284c6",
   "metadata": {},
   "outputs": [
    {
     "name": "stdout",
     "output_type": "stream",
     "text": [
      "Enter the numbers: 1 2 3 4 5\n",
      "Enter the number to be found: 4\n",
      "Target number 4 found at index 3\n"
     ]
    }
   ],
   "source": [
    "def binary_search(arr,element):\n",
    "    low = 0\n",
    "    high = len(arr) - 1\n",
    "\n",
    "    while low <= high:\n",
    "        mid = (low + high) // 2\n",
    "        if arr[mid] == element:\n",
    "            return mid\n",
    "        elif arr[mid] < element:\n",
    "            low = mid + 1\n",
    "        else:\n",
    "            high = mid - 1\n",
    "\n",
    "    return -1\n",
    "numbers = input(\"Enter the numbers: \").split()\n",
    "numbers = [int(num) for num in numbers]\n",
    "element = int(input(\"Enter the number to be found: \"))\n",
    "\n",
    "index = binary_search(numbers, element)\n",
    "\n",
    "if index != -1:\n",
    "    print(\"Target number\", element, \"found at index\", index)\n",
    "else:\n",
    "    print(\"Target number\", element, \"not found in the list.\")\n"
   ]
  },
  {
   "cell_type": "markdown",
   "id": "f3340939",
   "metadata": {},
   "source": [
    "### POLYMORPHISM"
   ]
  },
  {
   "cell_type": "code",
   "execution_count": 10,
   "id": "2fa03e1b",
   "metadata": {},
   "outputs": [
    {
     "name": "stdout",
     "output_type": "stream",
     "text": [
      "Area: 18\n",
      "Area: 12.56\n"
     ]
    }
   ],
   "source": [
    "class Shape:\n",
    "    def calculate_area(self):               \n",
    "        class Rectangle(Shape):\n",
    "            def __init__(self, length, breadth):\n",
    "                self.length = length\n",
    "                self.breadth = breadth\n",
    "            def calculate_area(self):\n",
    "                return self.length * self.breadth\n",
    "\n",
    "        class Circle(Shape):\n",
    "            def __init__(self, radius):\n",
    "                self.radius = radius\n",
    "\n",
    "            def calculate_area(self):\n",
    "                return 3.14 * self.radius**2\n",
    "shapes = [Rectangle(6, 3), Circle(2)]\n",
    "\n",
    "for shape in shapes:\n",
    "    print(\"Area:\", shape.calculate_area())"
   ]
  },
  {
   "cell_type": "code",
   "execution_count": null,
   "id": "d77b1b51",
   "metadata": {},
   "outputs": [],
   "source": []
  }
 ],
 "metadata": {
  "kernelspec": {
   "display_name": "Python 3 (ipykernel)",
   "language": "python",
   "name": "python3"
  },
  "language_info": {
   "codemirror_mode": {
    "name": "ipython",
    "version": 3
   },
   "file_extension": ".py",
   "mimetype": "text/x-python",
   "name": "python",
   "nbconvert_exporter": "python",
   "pygments_lexer": "ipython3",
   "version": "3.10.9"
  }
 },
 "nbformat": 4,
 "nbformat_minor": 5
}
